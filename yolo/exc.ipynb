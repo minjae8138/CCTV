{
 "cells": [
  {
   "cell_type": "code",
   "execution_count": 21,
   "metadata": {},
   "outputs": [
    {
     "name": "stdout",
     "output_type": "stream",
     "text": [
      "Collecting torch\n",
      "  Using cached torch-1.8.1-cp37-cp37m-win_amd64.whl (190.5 MB)\n",
      "Requirement already satisfied: typing-extensions in c:\\users\\82102\\anaconda3\\lib\\site-packages (from torch) (3.7.4.3)\n",
      "Requirement already satisfied: numpy in c:\\users\\82102\\anaconda3\\lib\\site-packages (from torch) (1.16.5)\n",
      "Installing collected packages: torch\n",
      "Successfully installed torch-1.8.1\n"
     ]
    },
    {
     "name": "stderr",
     "output_type": "stream",
     "text": [
      "WARNING: You are using pip version 21.0.1; however, version 21.1.1 is available.\n",
      "You should consider upgrading via the 'c:\\users\\82102\\anaconda3\\python.exe -m pip install --upgrade pip' command.\n"
     ]
    }
   ],
   "source": [
    "!pip install --upgrade pip\n",
    "!pip install torch\n",
    "!pip install torchvision\n",
    "!pip install matplotlib==3.2.2\n",
    "!pip install --ignore-installed PyYAML==5.3.1\n",
    "!pip install scipy==1.4.1\n",
    "!pip install tqdm==4.41.0\n",
    "!pip install tensorboard==2.4.1\n",
    "!pip install seaborn==0.11.0\n",
    "!pip install jinja2"
   ]
  },
  {
   "cell_type": "code",
   "execution_count": 1,
   "metadata": {},
   "outputs": [],
   "source": [
    "import torch\n",
    "from IPython.display import Image, clear_output  # to display images\n",
    "import torchvision\n",
    "import matplotlib\n",
    "import numpy as np"
   ]
  },
  {
   "cell_type": "code",
   "execution_count": 4,
   "metadata": {},
   "outputs": [
    {
     "data": {
      "text/plain": [
       "'C:\\\\Users\\\\82102\\\\yolo'"
      ]
     },
     "execution_count": 4,
     "metadata": {},
     "output_type": "execute_result"
    }
   ],
   "source": [
    "pwd"
   ]
  },
  {
   "cell_type": "code",
   "execution_count": 3,
   "metadata": {
    "colab": {
     "base_uri": "https://localhost:8080/"
    },
    "executionInfo": {
     "elapsed": 3798,
     "status": "ok",
     "timestamp": 1621661024210,
     "user": {
      "displayName": "송혜인",
      "photoUrl": "",
      "userId": "16683365134633728682"
     },
     "user_tz": -540
    },
    "id": "IY4IRultWgDf",
    "outputId": "a3e39462-1d62-40c9-f7fe-9444e5ecbbc9"
   },
   "outputs": [
    {
     "name": "stderr",
     "output_type": "stream",
     "text": [
      "fatal: destination path 'yolov5' already exists and is not an empty directory.\n"
     ]
    }
   ],
   "source": [
    "%cd yolo\n",
    "!git clone https://github.com/ultralytics/yolov5.git"
   ]
  },
  {
   "cell_type": "code",
   "execution_count": 1,
   "metadata": {},
   "outputs": [
    {
     "name": "stdout",
     "output_type": "stream",
     "text": [
      "[WinError 267] 디렉터리 이름이 올바르지 않습니다: 'yolov5/requirements.txt'\n",
      "C:\\Users\\82102\\yolo\n"
     ]
    }
   ],
   "source": [
    "%cd yolov5/"
   ]
  },
  {
   "cell_type": "code",
   "execution_count": null,
   "metadata": {
    "colab": {
     "base_uri": "https://localhost:8080/"
    },
    "executionInfo": {
     "elapsed": 3655,
     "status": "ok",
     "timestamp": 1621661030340,
     "user": {
      "displayName": "송혜인",
      "photoUrl": "",
      "userId": "16683365134633728682"
     },
     "user_tz": -540
    },
    "id": "UPNqvU9JWj3W",
    "outputId": "b1e3312a-26e4-47f9-c73b-b6309d9d6440"
   },
   "outputs": [],
   "source": [
    "!pip install -qr requirements.txt"
   ]
  },
  {
   "cell_type": "code",
   "execution_count": 5,
   "metadata": {
    "colab": {
     "base_uri": "https://localhost:8080/"
    },
    "executionInfo": {
     "elapsed": 577,
     "status": "ok",
     "timestamp": 1621558577658,
     "user": {
      "displayName": "송혜인",
      "photoUrl": "",
      "userId": "16683365134633728682"
     },
     "user_tz": -540
    },
    "id": "05RKA_S_WkwX",
    "outputId": "829315c5-5887-416a-d501-72b7ce2b8230"
   },
   "outputs": [
    {
     "name": "stderr",
     "output_type": "stream",
     "text": [
      "UsageError: Line magic function `%cat` not found.\n"
     ]
    }
   ],
   "source": [
    "%cat data.yaml"
   ]
  },
  {
   "cell_type": "code",
   "execution_count": 10,
   "metadata": {},
   "outputs": [],
   "source": [
    "path_to_zip_file = '../yolo/dataset.zip'\n",
    "directory_to_extract_to = '../yolo'\n",
    "\n",
    "import zipfile\n",
    "with zipfile.ZipFile(path_to_zip_file, 'r') as zip_ref:\n",
    "    zip_ref.extractall(directory_to_extract_to)"
   ]
  },
  {
   "cell_type": "code",
   "execution_count": 28,
   "metadata": {},
   "outputs": [
    {
     "name": "stdout",
     "output_type": "stream",
     "text": [
      "C:\\Users\\82102\\yolo\n"
     ]
    }
   ],
   "source": []
  },
  {
   "cell_type": "code",
   "execution_count": 29,
   "metadata": {
    "colab": {
     "base_uri": "https://localhost:8080/"
    },
    "executionInfo": {
     "elapsed": 235,
     "status": "ok",
     "timestamp": 1621559718527,
     "user": {
      "displayName": "송혜인",
      "photoUrl": "",
      "userId": "16683365134633728682"
     },
     "user_tz": -540
    },
    "id": "eiAwCy0Xa-la",
    "outputId": "170d1b59-fe73-4056-b033-1f28d0729721"
   },
   "outputs": [
    {
     "name": "stdout",
     "output_type": "stream",
     "text": [
      "1800\n"
     ]
    }
   ],
   "source": [
    "\n",
    "from glob import glob\n",
    "\n",
    "img_list = glob('dataset/images/*')\n",
    "\n",
    "print(len(img_list))"
   ]
  },
  {
   "cell_type": "code",
   "execution_count": 34,
   "metadata": {
    "colab": {
     "base_uri": "https://localhost:8080/"
    },
    "executionInfo": {
     "elapsed": 581,
     "status": "ok",
     "timestamp": 1621559730868,
     "user": {
      "displayName": "송혜인",
      "photoUrl": "",
      "userId": "16683365134633728682"
     },
     "user_tz": -540
    },
    "id": "5a9uOZsubG5y",
    "outputId": "f9bcf561-82c9-4fe5-a58b-368a4fbd5ce8"
   },
   "outputs": [
    {
     "name": "stdout",
     "output_type": "stream",
     "text": [
      "1440 360\n"
     ]
    }
   ],
   "source": [
    "from sklearn.model_selection import train_test_split\n",
    "\n",
    "train_img_list, val_img_list = train_test_split(img_list, test_size=0.2, random_state=2000)\n",
    "\n",
    "print(len(train_img_list), len(val_img_list))"
   ]
  },
  {
   "cell_type": "code",
   "execution_count": 16,
   "metadata": {
    "id": "7EkcVC5DbGu4"
   },
   "outputs": [],
   "source": [
    "with open('train.txt', 'w') as f:\n",
    "  f.write('\\n'.join(train_img_list)+'\\n')\n",
    "\n",
    "with open('val.txt', 'w') as f:\n",
    "  f.write('\\n'.join(val_img_list)+'\\n')"
   ]
  },
  {
   "cell_type": "code",
   "execution_count": 31,
   "metadata": {},
   "outputs": [
    {
     "name": "stdout",
     "output_type": "stream",
     "text": [
      "C:\\Users\\82102\\yolo\\yolov5\n"
     ]
    }
   ],
   "source": [
    "%cd yolov5"
   ]
  },
  {
   "cell_type": "code",
   "execution_count": 37,
   "metadata": {
    "colab": {
     "base_uri": "https://localhost:8080/"
    },
    "executionInfo": {
     "elapsed": 228,
     "status": "ok",
     "timestamp": 1621559757883,
     "user": {
      "displayName": "송혜인",
      "photoUrl": "",
      "userId": "16683365134633728682"
     },
     "user_tz": -540
    },
    "id": "v9sPzTvOfkLl",
    "outputId": "3dfb1b61-dd95-4f39-efcb-e913fcbaa8dd"
   },
   "outputs": [
    {
     "name": "stdout",
     "output_type": "stream",
     "text": [
      "{'names': ['mask', 'hammer', 'gloves', 'knife', 'hat', 'bat'], 'nc': 6, 'train': '../yolo/train.txt', 'val': '..//yolo/val.txt'}\n",
      "{'names': ['mask', 'hammer', 'gloves', 'knife', 'hat', 'bat'], 'nc': 6, 'train': '../yolo/train.txt', 'val': '../yolo/val.txt'}\n"
     ]
    },
    {
     "name": "stderr",
     "output_type": "stream",
     "text": [
      "C:\\Users\\82102\\Anaconda3\\lib\\site-packages\\ipykernel_launcher.py:4: YAMLLoadWarning: calling yaml.load() without Loader=... is deprecated, as the default Loader is unsafe. Please read https://msg.pyyaml.org/load for full details.\n",
      "  after removing the cwd from sys.path.\n"
     ]
    }
   ],
   "source": [
    "import yaml\n",
    "\n",
    "with open('data/data.yaml', 'r') as f:\n",
    "  data = yaml.load(f)\n",
    "\n",
    "print(data)\n",
    "\n",
    "data['train'] = '../yolo/train.txt'\n",
    "data['val'] = '../yolo/val.txt'\n",
    "\n",
    "with open('data/data.yaml', 'w') as f:\n",
    "  yaml.dump(data, f)\n",
    "\n",
    "print(data)"
   ]
  },
  {
   "cell_type": "code",
   "execution_count": 40,
   "metadata": {
    "colab": {
     "base_uri": "https://localhost:8080/"
    },
    "executionInfo": {
     "elapsed": 393905,
     "status": "ok",
     "timestamp": 1621579526983,
     "user": {
      "displayName": "송혜인",
      "photoUrl": "",
      "userId": "16683365134633728682"
     },
     "user_tz": -540
    },
    "id": "JQUiSLFhfm6B",
    "outputId": "5da5d06f-65d2-48b8-bf22-9c971bafe1a3"
   },
   "outputs": [
    {
     "name": "stderr",
     "output_type": "stream",
     "text": [
      "Traceback (most recent call last):\n",
      "  File \"train.py\", line 24, in <module>\n",
      "    import test  # import test.py to get mAP after each epoch\n",
      "  File \"C:\\Users\\82102\\yolo\\yolov5\\test.py\", line 14, in <module>\n",
      "    from utils.general import coco80_to_coco91_class, check_dataset, check_file, check_img_size, check_requirements, \\\n",
      "ImportError: cannot import name 'check_file' from 'utils.general' (C:\\Users\\82102\\yolo\\yolov5\\utils\\general.py)\n"
     ]
    }
   ],
   "source": [
    "!python train.py --img 640 --batch 40 --epochs 3 --data ../yolo/yolov5/data/data.yaml --cfg ./models/yolov5m.yaml --weights yolov5m.pt --name mid_150"
   ]
  },
  {
   "cell_type": "code",
   "execution_count": null,
   "metadata": {
    "colab": {
     "base_uri": "https://localhost:8080/"
    },
    "executionInfo": {
     "elapsed": 215780,
     "status": "ok",
     "timestamp": 1621579855835,
     "user": {
      "displayName": "송혜인",
      "photoUrl": "",
      "userId": "16683365134633728682"
     },
     "user_tz": -540
    },
    "id": "c1gpZC0oVcCR",
    "outputId": "89b04a33-43f3-4745-9f5e-f10a02c9f5c9"
   },
   "outputs": [
    {
     "name": "stdout",
     "output_type": "stream",
     "text": [
      "35\n",
      "['/content/drive/MyDrive/yolo/image/test_5_모자-마스크.jpg', '/content/drive/MyDrive/yolo/image/test_2_모자-마스크.jpg', '/content/drive/MyDrive/yolo/image/shutterstock_715207195.jpg', '/content/drive/MyDrive/yolo/image/마스크_0229.jpg', '/content/drive/MyDrive/yolo/image/마스크_0410.jpg', '/content/drive/MyDrive/yolo/image/마스크_0488.jpg', '/content/drive/MyDrive/yolo/image/장갑_0212.jpg', '/content/drive/MyDrive/yolo/image/장갑_0210.jpg', '/content/drive/MyDrive/yolo/image/장갑_0211.jpg', '/content/drive/MyDrive/yolo/image/장갑_0204.jpg', '/content/drive/MyDrive/yolo/image/장갑_0205.jpg', '/content/drive/MyDrive/yolo/image/장갑_0203.jpg', '/content/drive/MyDrive/yolo/image/장갑_0206.jpg', '/content/drive/MyDrive/yolo/image/장갑_0213.jpg', '/content/drive/MyDrive/yolo/image/장갑_0208.jpg', '/content/drive/MyDrive/yolo/image/장갑_0209.jpg', '/content/drive/MyDrive/yolo/image/장갑_0201.jpg', '/content/drive/MyDrive/yolo/image/장갑_0202.jpg', '/content/drive/MyDrive/yolo/image/장갑_0207.jpg', '/content/drive/MyDrive/yolo/image/image01.png', '/content/drive/MyDrive/yolo/image/image.png', '/content/drive/MyDrive/yolo/image/image02.png', '/content/drive/MyDrive/yolo/image/image03.png', '/content/drive/MyDrive/yolo/image/test_1_몽둥이-장갑.png', '/content/drive/MyDrive/yolo/image/test_3_모자-마스크.jpg', '/content/drive/MyDrive/yolo/image/test_4_모자-마스크.jpg', '/content/drive/MyDrive/yolo/image/test_7_모자-마스크.jpg', '/content/drive/MyDrive/yolo/image/test_6_모자-마스크.jpg', '/content/drive/MyDrive/yolo/image/test_8_모자-칼.jpg', '/content/drive/MyDrive/yolo/image/test_9_모자-장갑.jpg', '/content/drive/MyDrive/yolo/image/test_10_마스크-장갑.jpg', '/content/drive/MyDrive/yolo/image/test_12_장갑-방망이.jpg', '/content/drive/MyDrive/yolo/image/test_13_장갑-방망이.jpg', '/content/drive/MyDrive/yolo/image/test_13_모자-방망이.jpg', '/content/drive/MyDrive/yolo/image/test_11_장갑-방망이.jpg']\n",
      "Namespace(agnostic_nms=False, augment=False, classes=None, conf_thres=0.5, device='', exist_ok=False, hide_conf=False, hide_labels=False, img_size=416, iou_thres=0.45, line_thickness=3, max_det=1000, name='exp', nosave=False, project='runs/detect', save_conf=False, save_crop=False, save_txt=False, source='/content/drive/MyDrive/yolo/image/test_5_모자-마스크.jpg', update=False, view_img=False, weights=['/content/yolov5/runs/train/large_300/weights/best.pt'])\n",
      "YOLOv5 🚀 v5.0-103-g7b36e38 torch 1.8.1+cu101 CUDA:0 (Tesla T4, 15109.75MB)\n",
      "\n",
      "Fusing layers... \n",
      "Model Summary: 392 layers, 46627491 parameters, 0 gradients, 114.2 GFLOPS\n",
      "image 1/1 /content/drive/MyDrive/yolo/image/test_5_모자-마스크.jpg: 320x416 Done. (0.021s)\n",
      "Results saved to runs/detect/exp35\n",
      "Done. (0.041s)\n",
      "Namespace(agnostic_nms=False, augment=False, classes=None, conf_thres=0.5, device='', exist_ok=False, hide_conf=False, hide_labels=False, img_size=416, iou_thres=0.45, line_thickness=3, max_det=1000, name='exp', nosave=False, project='runs/detect', save_conf=False, save_crop=False, save_txt=False, source='/content/drive/MyDrive/yolo/image/test_2_모자-마스크.jpg', update=False, view_img=False, weights=['/content/yolov5/runs/train/large_300/weights/best.pt'])\n",
      "YOLOv5 🚀 v5.0-103-g7b36e38 torch 1.8.1+cu101 CUDA:0 (Tesla T4, 15109.75MB)\n",
      "\n",
      "Fusing layers... \n",
      "Model Summary: 392 layers, 46627491 parameters, 0 gradients, 114.2 GFLOPS\n",
      "image 1/1 /content/drive/MyDrive/yolo/image/test_2_모자-마스크.jpg: 416x288 Done. (0.021s)\n",
      "Results saved to runs/detect/exp36\n",
      "Done. (0.047s)\n",
      "Namespace(agnostic_nms=False, augment=False, classes=None, conf_thres=0.5, device='', exist_ok=False, hide_conf=False, hide_labels=False, img_size=416, iou_thres=0.45, line_thickness=3, max_det=1000, name='exp', nosave=False, project='runs/detect', save_conf=False, save_crop=False, save_txt=False, source='/content/drive/MyDrive/yolo/image/shutterstock_715207195.jpg', update=False, view_img=False, weights=['/content/yolov5/runs/train/large_300/weights/best.pt'])\n",
      "YOLOv5 🚀 v5.0-103-g7b36e38 torch 1.8.1+cu101 CUDA:0 (Tesla T4, 15109.75MB)\n",
      "\n",
      "Fusing layers... \n",
      "Model Summary: 392 layers, 46627491 parameters, 0 gradients, 114.2 GFLOPS\n",
      "image 1/1 /content/drive/MyDrive/yolo/image/shutterstock_715207195.jpg: 288x416 Done. (0.020s)\n",
      "Results saved to runs/detect/exp37\n",
      "Done. (0.030s)\n",
      "Namespace(agnostic_nms=False, augment=False, classes=None, conf_thres=0.5, device='', exist_ok=False, hide_conf=False, hide_labels=False, img_size=416, iou_thres=0.45, line_thickness=3, max_det=1000, name='exp', nosave=False, project='runs/detect', save_conf=False, save_crop=False, save_txt=False, source='/content/drive/MyDrive/yolo/image/마스크_0229.jpg', update=False, view_img=False, weights=['/content/yolov5/runs/train/large_300/weights/best.pt'])\n",
      "YOLOv5 🚀 v5.0-103-g7b36e38 torch 1.8.1+cu101 CUDA:0 (Tesla T4, 15109.75MB)\n",
      "\n",
      "Fusing layers... \n",
      "Model Summary: 392 layers, 46627491 parameters, 0 gradients, 114.2 GFLOPS\n",
      "image 1/1 /content/drive/MyDrive/yolo/image/마스크_0229.jpg: 416x320 1 mask, Done. (0.022s)\n",
      "Results saved to runs/detect/exp38\n",
      "Done. (0.035s)\n",
      "Namespace(agnostic_nms=False, augment=False, classes=None, conf_thres=0.5, device='', exist_ok=False, hide_conf=False, hide_labels=False, img_size=416, iou_thres=0.45, line_thickness=3, max_det=1000, name='exp', nosave=False, project='runs/detect', save_conf=False, save_crop=False, save_txt=False, source='/content/drive/MyDrive/yolo/image/마스크_0410.jpg', update=False, view_img=False, weights=['/content/yolov5/runs/train/large_300/weights/best.pt'])\n",
      "YOLOv5 🚀 v5.0-103-g7b36e38 torch 1.8.1+cu101 CUDA:0 (Tesla T4, 15109.75MB)\n",
      "\n",
      "Fusing layers... \n",
      "Model Summary: 392 layers, 46627491 parameters, 0 gradients, 114.2 GFLOPS\n",
      "image 1/1 /content/drive/MyDrive/yolo/image/마스크_0410.jpg: 416x256 1 mask, Done. (0.021s)\n",
      "Results saved to runs/detect/exp39\n",
      "Done. (0.036s)\n",
      "Namespace(agnostic_nms=False, augment=False, classes=None, conf_thres=0.5, device='', exist_ok=False, hide_conf=False, hide_labels=False, img_size=416, iou_thres=0.45, line_thickness=3, max_det=1000, name='exp', nosave=False, project='runs/detect', save_conf=False, save_crop=False, save_txt=False, source='/content/drive/MyDrive/yolo/image/마스크_0488.jpg', update=False, view_img=False, weights=['/content/yolov5/runs/train/large_300/weights/best.pt'])\n",
      "YOLOv5 🚀 v5.0-103-g7b36e38 torch 1.8.1+cu101 CUDA:0 (Tesla T4, 15109.75MB)\n",
      "\n",
      "Fusing layers... \n",
      "Model Summary: 392 layers, 46627491 parameters, 0 gradients, 114.2 GFLOPS\n",
      "image 1/1 /content/drive/MyDrive/yolo/image/마스크_0488.jpg: 416x320 1 mask, Done. (0.022s)\n",
      "Results saved to runs/detect/exp40\n",
      "Done. (0.034s)\n",
      "Namespace(agnostic_nms=False, augment=False, classes=None, conf_thres=0.5, device='', exist_ok=False, hide_conf=False, hide_labels=False, img_size=416, iou_thres=0.45, line_thickness=3, max_det=1000, name='exp', nosave=False, project='runs/detect', save_conf=False, save_crop=False, save_txt=False, source='/content/drive/MyDrive/yolo/image/장갑_0212.jpg', update=False, view_img=False, weights=['/content/yolov5/runs/train/large_300/weights/best.pt'])\n",
      "YOLOv5 🚀 v5.0-103-g7b36e38 torch 1.8.1+cu101 CUDA:0 (Tesla T4, 15109.75MB)\n",
      "\n",
      "Fusing layers... \n",
      "Model Summary: 392 layers, 46627491 parameters, 0 gradients, 114.2 GFLOPS\n",
      "image 1/1 /content/drive/MyDrive/yolo/image/장갑_0212.jpg: 416x416 1 mask, Done. (0.023s)\n",
      "Results saved to runs/detect/exp41\n",
      "Done. (0.043s)\n",
      "Namespace(agnostic_nms=False, augment=False, classes=None, conf_thres=0.5, device='', exist_ok=False, hide_conf=False, hide_labels=False, img_size=416, iou_thres=0.45, line_thickness=3, max_det=1000, name='exp', nosave=False, project='runs/detect', save_conf=False, save_crop=False, save_txt=False, source='/content/drive/MyDrive/yolo/image/장갑_0210.jpg', update=False, view_img=False, weights=['/content/yolov5/runs/train/large_300/weights/best.pt'])\n",
      "YOLOv5 🚀 v5.0-103-g7b36e38 torch 1.8.1+cu101 CUDA:0 (Tesla T4, 15109.75MB)\n",
      "\n",
      "Fusing layers... \n",
      "Model Summary: 392 layers, 46627491 parameters, 0 gradients, 114.2 GFLOPS\n",
      "image 1/1 /content/drive/MyDrive/yolo/image/장갑_0210.jpg: 288x416 Done. (0.020s)\n",
      "Results saved to runs/detect/exp42\n",
      "Done. (0.032s)\n",
      "Namespace(agnostic_nms=False, augment=False, classes=None, conf_thres=0.5, device='', exist_ok=False, hide_conf=False, hide_labels=False, img_size=416, iou_thres=0.45, line_thickness=3, max_det=1000, name='exp', nosave=False, project='runs/detect', save_conf=False, save_crop=False, save_txt=False, source='/content/drive/MyDrive/yolo/image/장갑_0211.jpg', update=False, view_img=False, weights=['/content/yolov5/runs/train/large_300/weights/best.pt'])\n",
      "YOLOv5 🚀 v5.0-103-g7b36e38 torch 1.8.1+cu101 CUDA:0 (Tesla T4, 15109.75MB)\n",
      "\n",
      "Fusing layers... \n",
      "Model Summary: 392 layers, 46627491 parameters, 0 gradients, 114.2 GFLOPS\n",
      "image 1/1 /content/drive/MyDrive/yolo/image/장갑_0211.jpg: 288x416 Done. (0.020s)\n",
      "Results saved to runs/detect/exp43\n",
      "Done. (0.032s)\n",
      "Namespace(agnostic_nms=False, augment=False, classes=None, conf_thres=0.5, device='', exist_ok=False, hide_conf=False, hide_labels=False, img_size=416, iou_thres=0.45, line_thickness=3, max_det=1000, name='exp', nosave=False, project='runs/detect', save_conf=False, save_crop=False, save_txt=False, source='/content/drive/MyDrive/yolo/image/장갑_0204.jpg', update=False, view_img=False, weights=['/content/yolov5/runs/train/large_300/weights/best.pt'])\n",
      "YOLOv5 🚀 v5.0-103-g7b36e38 torch 1.8.1+cu101 CUDA:0 (Tesla T4, 15109.75MB)\n",
      "\n",
      "Fusing layers... \n",
      "Model Summary: 392 layers, 46627491 parameters, 0 gradients, 114.2 GFLOPS\n",
      "image 1/1 /content/drive/MyDrive/yolo/image/장갑_0204.jpg: 288x416 Done. (0.020s)\n",
      "Results saved to runs/detect/exp44\n",
      "Done. (0.033s)\n",
      "Namespace(agnostic_nms=False, augment=False, classes=None, conf_thres=0.5, device='', exist_ok=False, hide_conf=False, hide_labels=False, img_size=416, iou_thres=0.45, line_thickness=3, max_det=1000, name='exp', nosave=False, project='runs/detect', save_conf=False, save_crop=False, save_txt=False, source='/content/drive/MyDrive/yolo/image/장갑_0205.jpg', update=False, view_img=False, weights=['/content/yolov5/runs/train/large_300/weights/best.pt'])\n",
      "YOLOv5 🚀 v5.0-103-g7b36e38 torch 1.8.1+cu101 CUDA:0 (Tesla T4, 15109.75MB)\n",
      "\n",
      "Fusing layers... \n",
      "Model Summary: 392 layers, 46627491 parameters, 0 gradients, 114.2 GFLOPS\n",
      "image 1/1 /content/drive/MyDrive/yolo/image/장갑_0205.jpg: 288x416 Done. (0.020s)\n",
      "Results saved to runs/detect/exp45\n",
      "Done. (0.033s)\n",
      "Namespace(agnostic_nms=False, augment=False, classes=None, conf_thres=0.5, device='', exist_ok=False, hide_conf=False, hide_labels=False, img_size=416, iou_thres=0.45, line_thickness=3, max_det=1000, name='exp', nosave=False, project='runs/detect', save_conf=False, save_crop=False, save_txt=False, source='/content/drive/MyDrive/yolo/image/장갑_0203.jpg', update=False, view_img=False, weights=['/content/yolov5/runs/train/large_300/weights/best.pt'])\n",
      "YOLOv5 🚀 v5.0-103-g7b36e38 torch 1.8.1+cu101 CUDA:0 (Tesla T4, 15109.75MB)\n",
      "\n",
      "Fusing layers... \n",
      "Model Summary: 392 layers, 46627491 parameters, 0 gradients, 114.2 GFLOPS\n",
      "image 1/1 /content/drive/MyDrive/yolo/image/장갑_0203.jpg: 288x416 Done. (0.020s)\n",
      "Results saved to runs/detect/exp46\n",
      "Done. (0.035s)\n",
      "Namespace(agnostic_nms=False, augment=False, classes=None, conf_thres=0.5, device='', exist_ok=False, hide_conf=False, hide_labels=False, img_size=416, iou_thres=0.45, line_thickness=3, max_det=1000, name='exp', nosave=False, project='runs/detect', save_conf=False, save_crop=False, save_txt=False, source='/content/drive/MyDrive/yolo/image/장갑_0206.jpg', update=False, view_img=False, weights=['/content/yolov5/runs/train/large_300/weights/best.pt'])\n",
      "YOLOv5 🚀 v5.0-103-g7b36e38 torch 1.8.1+cu101 CUDA:0 (Tesla T4, 15109.75MB)\n",
      "\n",
      "Fusing layers... \n",
      "Model Summary: 392 layers, 46627491 parameters, 0 gradients, 114.2 GFLOPS\n",
      "image 1/1 /content/drive/MyDrive/yolo/image/장갑_0206.jpg: 288x416 Done. (0.020s)\n",
      "Results saved to runs/detect/exp47\n",
      "Done. (0.034s)\n",
      "Namespace(agnostic_nms=False, augment=False, classes=None, conf_thres=0.5, device='', exist_ok=False, hide_conf=False, hide_labels=False, img_size=416, iou_thres=0.45, line_thickness=3, max_det=1000, name='exp', nosave=False, project='runs/detect', save_conf=False, save_crop=False, save_txt=False, source='/content/drive/MyDrive/yolo/image/장갑_0213.jpg', update=False, view_img=False, weights=['/content/yolov5/runs/train/large_300/weights/best.pt'])\n",
      "YOLOv5 🚀 v5.0-103-g7b36e38 torch 1.8.1+cu101 CUDA:0 (Tesla T4, 15109.75MB)\n",
      "\n",
      "Fusing layers... \n",
      "Model Summary: 392 layers, 46627491 parameters, 0 gradients, 114.2 GFLOPS\n",
      "image 1/1 /content/drive/MyDrive/yolo/image/장갑_0213.jpg: 288x416 1 hat, Done. (0.021s)\n",
      "Results saved to runs/detect/exp48\n",
      "Done. (0.036s)\n",
      "Namespace(agnostic_nms=False, augment=False, classes=None, conf_thres=0.5, device='', exist_ok=False, hide_conf=False, hide_labels=False, img_size=416, iou_thres=0.45, line_thickness=3, max_det=1000, name='exp', nosave=False, project='runs/detect', save_conf=False, save_crop=False, save_txt=False, source='/content/drive/MyDrive/yolo/image/장갑_0208.jpg', update=False, view_img=False, weights=['/content/yolov5/runs/train/large_300/weights/best.pt'])\n",
      "YOLOv5 🚀 v5.0-103-g7b36e38 torch 1.8.1+cu101 CUDA:0 (Tesla T4, 15109.75MB)\n",
      "\n",
      "Fusing layers... \n",
      "Model Summary: 392 layers, 46627491 parameters, 0 gradients, 114.2 GFLOPS\n",
      "image 1/1 /content/drive/MyDrive/yolo/image/장갑_0208.jpg: 288x416 Done. (0.021s)\n",
      "Results saved to runs/detect/exp49\n",
      "Done. (0.038s)\n",
      "Namespace(agnostic_nms=False, augment=False, classes=None, conf_thres=0.5, device='', exist_ok=False, hide_conf=False, hide_labels=False, img_size=416, iou_thres=0.45, line_thickness=3, max_det=1000, name='exp', nosave=False, project='runs/detect', save_conf=False, save_crop=False, save_txt=False, source='/content/drive/MyDrive/yolo/image/장갑_0209.jpg', update=False, view_img=False, weights=['/content/yolov5/runs/train/large_300/weights/best.pt'])\n",
      "YOLOv5 🚀 v5.0-103-g7b36e38 torch 1.8.1+cu101 CUDA:0 (Tesla T4, 15109.75MB)\n",
      "\n",
      "Fusing layers... \n",
      "Model Summary: 392 layers, 46627491 parameters, 0 gradients, 114.2 GFLOPS\n",
      "image 1/1 /content/drive/MyDrive/yolo/image/장갑_0209.jpg: 288x416 Done. (0.020s)\n",
      "Results saved to runs/detect/exp50\n",
      "Done. (0.032s)\n",
      "Namespace(agnostic_nms=False, augment=False, classes=None, conf_thres=0.5, device='', exist_ok=False, hide_conf=False, hide_labels=False, img_size=416, iou_thres=0.45, line_thickness=3, max_det=1000, name='exp', nosave=False, project='runs/detect', save_conf=False, save_crop=False, save_txt=False, source='/content/drive/MyDrive/yolo/image/장갑_0201.jpg', update=False, view_img=False, weights=['/content/yolov5/runs/train/large_300/weights/best.pt'])\n",
      "YOLOv5 🚀 v5.0-103-g7b36e38 torch 1.8.1+cu101 CUDA:0 (Tesla T4, 15109.75MB)\n",
      "\n",
      "Fusing layers... \n",
      "Model Summary: 392 layers, 46627491 parameters, 0 gradients, 114.2 GFLOPS\n",
      "image 1/1 /content/drive/MyDrive/yolo/image/장갑_0201.jpg: 288x416 1 gloves, Done. (0.021s)\n",
      "Results saved to runs/detect/exp51\n",
      "Done. (0.034s)\n",
      "Namespace(agnostic_nms=False, augment=False, classes=None, conf_thres=0.5, device='', exist_ok=False, hide_conf=False, hide_labels=False, img_size=416, iou_thres=0.45, line_thickness=3, max_det=1000, name='exp', nosave=False, project='runs/detect', save_conf=False, save_crop=False, save_txt=False, source='/content/drive/MyDrive/yolo/image/장갑_0202.jpg', update=False, view_img=False, weights=['/content/yolov5/runs/train/large_300/weights/best.pt'])\n",
      "YOLOv5 🚀 v5.0-103-g7b36e38 torch 1.8.1+cu101 CUDA:0 (Tesla T4, 15109.75MB)\n",
      "\n",
      "Fusing layers... \n",
      "Model Summary: 392 layers, 46627491 parameters, 0 gradients, 114.2 GFLOPS\n",
      "image 1/1 /content/drive/MyDrive/yolo/image/장갑_0202.jpg: 288x416 Done. (0.020s)\n",
      "Results saved to runs/detect/exp52\n",
      "Done. (0.035s)\n",
      "Namespace(agnostic_nms=False, augment=False, classes=None, conf_thres=0.5, device='', exist_ok=False, hide_conf=False, hide_labels=False, img_size=416, iou_thres=0.45, line_thickness=3, max_det=1000, name='exp', nosave=False, project='runs/detect', save_conf=False, save_crop=False, save_txt=False, source='/content/drive/MyDrive/yolo/image/장갑_0207.jpg', update=False, view_img=False, weights=['/content/yolov5/runs/train/large_300/weights/best.pt'])\n",
      "YOLOv5 🚀 v5.0-103-g7b36e38 torch 1.8.1+cu101 CUDA:0 (Tesla T4, 15109.75MB)\n",
      "\n",
      "Fusing layers... \n",
      "Model Summary: 392 layers, 46627491 parameters, 0 gradients, 114.2 GFLOPS\n",
      "image 1/1 /content/drive/MyDrive/yolo/image/장갑_0207.jpg: 288x416 Done. (0.020s)\n",
      "Results saved to runs/detect/exp53\n",
      "Done. (0.033s)\n",
      "Namespace(agnostic_nms=False, augment=False, classes=None, conf_thres=0.5, device='', exist_ok=False, hide_conf=False, hide_labels=False, img_size=416, iou_thres=0.45, line_thickness=3, max_det=1000, name='exp', nosave=False, project='runs/detect', save_conf=False, save_crop=False, save_txt=False, source='/content/drive/MyDrive/yolo/image/image01.png', update=False, view_img=False, weights=['/content/yolov5/runs/train/large_300/weights/best.pt'])\n",
      "YOLOv5 🚀 v5.0-103-g7b36e38 torch 1.8.1+cu101 CUDA:0 (Tesla T4, 15109.75MB)\n",
      "\n",
      "Fusing layers... \n",
      "Model Summary: 392 layers, 46627491 parameters, 0 gradients, 114.2 GFLOPS\n",
      "image 1/1 /content/drive/MyDrive/yolo/image/image01.png: 288x416 1 hammer, Done. (0.021s)\n",
      "Results saved to runs/detect/exp54\n",
      "Done. (0.038s)\n",
      "Namespace(agnostic_nms=False, augment=False, classes=None, conf_thres=0.5, device='', exist_ok=False, hide_conf=False, hide_labels=False, img_size=416, iou_thres=0.45, line_thickness=3, max_det=1000, name='exp', nosave=False, project='runs/detect', save_conf=False, save_crop=False, save_txt=False, source='/content/drive/MyDrive/yolo/image/image.png', update=False, view_img=False, weights=['/content/yolov5/runs/train/large_300/weights/best.pt'])\n",
      "YOLOv5 🚀 v5.0-103-g7b36e38 torch 1.8.1+cu101 CUDA:0 (Tesla T4, 15109.75MB)\n",
      "\n",
      "Fusing layers... \n",
      "Model Summary: 392 layers, 46627491 parameters, 0 gradients, 114.2 GFLOPS\n",
      "image 1/1 /content/drive/MyDrive/yolo/image/image.png: 416x416 1 mask, Done. (0.023s)\n",
      "Results saved to runs/detect/exp55\n",
      "Done. (0.034s)\n",
      "Namespace(agnostic_nms=False, augment=False, classes=None, conf_thres=0.5, device='', exist_ok=False, hide_conf=False, hide_labels=False, img_size=416, iou_thres=0.45, line_thickness=3, max_det=1000, name='exp', nosave=False, project='runs/detect', save_conf=False, save_crop=False, save_txt=False, source='/content/drive/MyDrive/yolo/image/image02.png', update=False, view_img=False, weights=['/content/yolov5/runs/train/large_300/weights/best.pt'])\n",
      "YOLOv5 🚀 v5.0-103-g7b36e38 torch 1.8.1+cu101 CUDA:0 (Tesla T4, 15109.75MB)\n",
      "\n",
      "Fusing layers... \n",
      "Model Summary: 392 layers, 46627491 parameters, 0 gradients, 114.2 GFLOPS\n",
      "image 1/1 /content/drive/MyDrive/yolo/image/image02.png: 416x416 1 mask, Done. (0.023s)\n",
      "Results saved to runs/detect/exp56\n",
      "Done. (0.046s)\n",
      "Namespace(agnostic_nms=False, augment=False, classes=None, conf_thres=0.5, device='', exist_ok=False, hide_conf=False, hide_labels=False, img_size=416, iou_thres=0.45, line_thickness=3, max_det=1000, name='exp', nosave=False, project='runs/detect', save_conf=False, save_crop=False, save_txt=False, source='/content/drive/MyDrive/yolo/image/image03.png', update=False, view_img=False, weights=['/content/yolov5/runs/train/large_300/weights/best.pt'])\n",
      "YOLOv5 🚀 v5.0-103-g7b36e38 torch 1.8.1+cu101 CUDA:0 (Tesla T4, 15109.75MB)\n",
      "\n",
      "Fusing layers... \n",
      "Model Summary: 392 layers, 46627491 parameters, 0 gradients, 114.2 GFLOPS\n",
      "image 1/1 /content/drive/MyDrive/yolo/image/image03.png: 416x384 Done. (0.021s)\n",
      "Results saved to runs/detect/exp57\n",
      "Done. (0.052s)\n",
      "Namespace(agnostic_nms=False, augment=False, classes=None, conf_thres=0.5, device='', exist_ok=False, hide_conf=False, hide_labels=False, img_size=416, iou_thres=0.45, line_thickness=3, max_det=1000, name='exp', nosave=False, project='runs/detect', save_conf=False, save_crop=False, save_txt=False, source='/content/drive/MyDrive/yolo/image/test_1_몽둥이-장갑.png', update=False, view_img=False, weights=['/content/yolov5/runs/train/large_300/weights/best.pt'])\n",
      "YOLOv5 🚀 v5.0-103-g7b36e38 torch 1.8.1+cu101 CUDA:0 (Tesla T4, 15109.75MB)\n",
      "\n",
      "Fusing layers... \n",
      "Model Summary: 392 layers, 46627491 parameters, 0 gradients, 114.2 GFLOPS\n",
      "image 1/1 /content/drive/MyDrive/yolo/image/test_1_몽둥이-장갑.png: 320x416 1 gloves, Done. (0.022s)\n",
      "Results saved to runs/detect/exp58\n",
      "Done. (0.033s)\n",
      "Namespace(agnostic_nms=False, augment=False, classes=None, conf_thres=0.5, device='', exist_ok=False, hide_conf=False, hide_labels=False, img_size=416, iou_thres=0.45, line_thickness=3, max_det=1000, name='exp', nosave=False, project='runs/detect', save_conf=False, save_crop=False, save_txt=False, source='/content/drive/MyDrive/yolo/image/test_3_모자-마스크.jpg', update=False, view_img=False, weights=['/content/yolov5/runs/train/large_300/weights/best.pt'])\n",
      "YOLOv5 🚀 v5.0-103-g7b36e38 torch 1.8.1+cu101 CUDA:0 (Tesla T4, 15109.75MB)\n",
      "\n",
      "Fusing layers... \n",
      "Model Summary: 392 layers, 46627491 parameters, 0 gradients, 114.2 GFLOPS\n",
      "image 1/1 /content/drive/MyDrive/yolo/image/test_3_모자-마스크.jpg: 288x416 1 hat, Done. (0.021s)\n",
      "Results saved to runs/detect/exp59\n",
      "Done. (0.089s)\n",
      "Namespace(agnostic_nms=False, augment=False, classes=None, conf_thres=0.5, device='', exist_ok=False, hide_conf=False, hide_labels=False, img_size=416, iou_thres=0.45, line_thickness=3, max_det=1000, name='exp', nosave=False, project='runs/detect', save_conf=False, save_crop=False, save_txt=False, source='/content/drive/MyDrive/yolo/image/test_4_모자-마스크.jpg', update=False, view_img=False, weights=['/content/yolov5/runs/train/large_300/weights/best.pt'])\n",
      "YOLOv5 🚀 v5.0-103-g7b36e38 torch 1.8.1+cu101 CUDA:0 (Tesla T4, 15109.75MB)\n",
      "\n",
      "Fusing layers... \n",
      "Model Summary: 392 layers, 46627491 parameters, 0 gradients, 114.2 GFLOPS\n",
      "image 1/1 /content/drive/MyDrive/yolo/image/test_4_모자-마스크.jpg: 416x288 Done. (0.020s)\n",
      "Results saved to runs/detect/exp60\n",
      "Done. (0.094s)\n",
      "Namespace(agnostic_nms=False, augment=False, classes=None, conf_thres=0.5, device='', exist_ok=False, hide_conf=False, hide_labels=False, img_size=416, iou_thres=0.45, line_thickness=3, max_det=1000, name='exp', nosave=False, project='runs/detect', save_conf=False, save_crop=False, save_txt=False, source='/content/drive/MyDrive/yolo/image/test_7_모자-마스크.jpg', update=False, view_img=False, weights=['/content/yolov5/runs/train/large_300/weights/best.pt'])\n",
      "YOLOv5 🚀 v5.0-103-g7b36e38 torch 1.8.1+cu101 CUDA:0 (Tesla T4, 15109.75MB)\n",
      "\n",
      "Fusing layers... \n",
      "Model Summary: 392 layers, 46627491 parameters, 0 gradients, 114.2 GFLOPS\n",
      "image 1/1 /content/drive/MyDrive/yolo/image/test_7_모자-마스크.jpg: 416x416 Done. (0.022s)\n",
      "Results saved to runs/detect/exp61\n",
      "Done. (0.032s)\n",
      "Namespace(agnostic_nms=False, augment=False, classes=None, conf_thres=0.5, device='', exist_ok=False, hide_conf=False, hide_labels=False, img_size=416, iou_thres=0.45, line_thickness=3, max_det=1000, name='exp', nosave=False, project='runs/detect', save_conf=False, save_crop=False, save_txt=False, source='/content/drive/MyDrive/yolo/image/test_6_모자-마스크.jpg', update=False, view_img=False, weights=['/content/yolov5/runs/train/large_300/weights/best.pt'])\n",
      "YOLOv5 🚀 v5.0-103-g7b36e38 torch 1.8.1+cu101 CUDA:0 (Tesla T4, 15109.75MB)\n",
      "\n",
      "Fusing layers... \n",
      "Model Summary: 392 layers, 46627491 parameters, 0 gradients, 114.2 GFLOPS\n",
      "image 1/1 /content/drive/MyDrive/yolo/image/test_6_모자-마스크.jpg: 288x416 2 masks, Done. (0.021s)\n",
      "Results saved to runs/detect/exp62\n",
      "Done. (0.034s)\n",
      "Namespace(agnostic_nms=False, augment=False, classes=None, conf_thres=0.5, device='', exist_ok=False, hide_conf=False, hide_labels=False, img_size=416, iou_thres=0.45, line_thickness=3, max_det=1000, name='exp', nosave=False, project='runs/detect', save_conf=False, save_crop=False, save_txt=False, source='/content/drive/MyDrive/yolo/image/test_8_모자-칼.jpg', update=False, view_img=False, weights=['/content/yolov5/runs/train/large_300/weights/best.pt'])\n",
      "YOLOv5 🚀 v5.0-103-g7b36e38 torch 1.8.1+cu101 CUDA:0 (Tesla T4, 15109.75MB)\n",
      "\n",
      "Fusing layers... \n",
      "Model Summary: 392 layers, 46627491 parameters, 0 gradients, 114.2 GFLOPS\n",
      "image 1/1 /content/drive/MyDrive/yolo/image/test_8_모자-칼.jpg: 288x416 1 knife, 1 hat, Done. (0.021s)\n",
      "Results saved to runs/detect/exp63\n",
      "Done. (0.063s)\n",
      "Namespace(agnostic_nms=False, augment=False, classes=None, conf_thres=0.5, device='', exist_ok=False, hide_conf=False, hide_labels=False, img_size=416, iou_thres=0.45, line_thickness=3, max_det=1000, name='exp', nosave=False, project='runs/detect', save_conf=False, save_crop=False, save_txt=False, source='/content/drive/MyDrive/yolo/image/test_9_모자-장갑.jpg', update=False, view_img=False, weights=['/content/yolov5/runs/train/large_300/weights/best.pt'])\n",
      "YOLOv5 🚀 v5.0-103-g7b36e38 torch 1.8.1+cu101 CUDA:0 (Tesla T4, 15109.75MB)\n",
      "\n",
      "Fusing layers... \n",
      "Model Summary: 392 layers, 46627491 parameters, 0 gradients, 114.2 GFLOPS\n",
      "image 1/1 /content/drive/MyDrive/yolo/image/test_9_모자-장갑.jpg: 416x224 1 hat, Done. (0.021s)\n",
      "Results saved to runs/detect/exp64\n",
      "Done. (0.043s)\n",
      "Namespace(agnostic_nms=False, augment=False, classes=None, conf_thres=0.5, device='', exist_ok=False, hide_conf=False, hide_labels=False, img_size=416, iou_thres=0.45, line_thickness=3, max_det=1000, name='exp', nosave=False, project='runs/detect', save_conf=False, save_crop=False, save_txt=False, source='/content/drive/MyDrive/yolo/image/test_10_마스크-장갑.jpg', update=False, view_img=False, weights=['/content/yolov5/runs/train/large_300/weights/best.pt'])\n",
      "YOLOv5 🚀 v5.0-103-g7b36e38 torch 1.8.1+cu101 CUDA:0 (Tesla T4, 15109.75MB)\n",
      "\n",
      "Fusing layers... \n",
      "Model Summary: 392 layers, 46627491 parameters, 0 gradients, 114.2 GFLOPS\n",
      "image 1/1 /content/drive/MyDrive/yolo/image/test_10_마스크-장갑.jpg: 288x416 1 mask, Done. (0.021s)\n",
      "Results saved to runs/detect/exp65\n",
      "Done. (0.032s)\n",
      "Namespace(agnostic_nms=False, augment=False, classes=None, conf_thres=0.5, device='', exist_ok=False, hide_conf=False, hide_labels=False, img_size=416, iou_thres=0.45, line_thickness=3, max_det=1000, name='exp', nosave=False, project='runs/detect', save_conf=False, save_crop=False, save_txt=False, source='/content/drive/MyDrive/yolo/image/test_12_장갑-방망이.jpg', update=False, view_img=False, weights=['/content/yolov5/runs/train/large_300/weights/best.pt'])\n",
      "YOLOv5 🚀 v5.0-103-g7b36e38 torch 1.8.1+cu101 CUDA:0 (Tesla T4, 15109.75MB)\n",
      "\n",
      "Fusing layers... \n",
      "Model Summary: 392 layers, 46627491 parameters, 0 gradients, 114.2 GFLOPS\n",
      "image 1/1 /content/drive/MyDrive/yolo/image/test_12_장갑-방망이.jpg: 288x416 Done. (0.021s)\n",
      "Results saved to runs/detect/exp66\n",
      "Done. (0.046s)\n",
      "Namespace(agnostic_nms=False, augment=False, classes=None, conf_thres=0.5, device='', exist_ok=False, hide_conf=False, hide_labels=False, img_size=416, iou_thres=0.45, line_thickness=3, max_det=1000, name='exp', nosave=False, project='runs/detect', save_conf=False, save_crop=False, save_txt=False, source='/content/drive/MyDrive/yolo/image/test_13_장갑-방망이.jpg', update=False, view_img=False, weights=['/content/yolov5/runs/train/large_300/weights/best.pt'])\n",
      "YOLOv5 🚀 v5.0-103-g7b36e38 torch 1.8.1+cu101 CUDA:0 (Tesla T4, 15109.75MB)\n",
      "\n",
      "Fusing layers... \n",
      "Model Summary: 392 layers, 46627491 parameters, 0 gradients, 114.2 GFLOPS\n",
      "image 1/1 /content/drive/MyDrive/yolo/image/test_13_장갑-방망이.jpg: 288x416 Done. (0.020s)\n",
      "Results saved to runs/detect/exp67\n",
      "Done. (0.051s)\n",
      "Namespace(agnostic_nms=False, augment=False, classes=None, conf_thres=0.5, device='', exist_ok=False, hide_conf=False, hide_labels=False, img_size=416, iou_thres=0.45, line_thickness=3, max_det=1000, name='exp', nosave=False, project='runs/detect', save_conf=False, save_crop=False, save_txt=False, source='/content/drive/MyDrive/yolo/image/test_13_모자-방망이.jpg', update=False, view_img=False, weights=['/content/yolov5/runs/train/large_300/weights/best.pt'])\n",
      "YOLOv5 🚀 v5.0-103-g7b36e38 torch 1.8.1+cu101 CUDA:0 (Tesla T4, 15109.75MB)\n",
      "\n",
      "Fusing layers... \n",
      "Model Summary: 392 layers, 46627491 parameters, 0 gradients, 114.2 GFLOPS\n",
      "image 1/1 /content/drive/MyDrive/yolo/image/test_13_모자-방망이.jpg: 416x288 Done. (0.020s)\n",
      "Results saved to runs/detect/exp68\n",
      "Done. (0.025s)\n",
      "Namespace(agnostic_nms=False, augment=False, classes=None, conf_thres=0.5, device='', exist_ok=False, hide_conf=False, hide_labels=False, img_size=416, iou_thres=0.45, line_thickness=3, max_det=1000, name='exp', nosave=False, project='runs/detect', save_conf=False, save_crop=False, save_txt=False, source='/content/drive/MyDrive/yolo/image/test_11_장갑-방망이.jpg', update=False, view_img=False, weights=['/content/yolov5/runs/train/large_300/weights/best.pt'])\n",
      "YOLOv5 🚀 v5.0-103-g7b36e38 torch 1.8.1+cu101 CUDA:0 (Tesla T4, 15109.75MB)\n",
      "\n",
      "Fusing layers... \n",
      "Model Summary: 392 layers, 46627491 parameters, 0 gradients, 114.2 GFLOPS\n",
      "image 1/1 /content/drive/MyDrive/yolo/image/test_11_장갑-방망이.jpg: 256x416 1 bat, Done. (0.022s)\n",
      "Results saved to runs/detect/exp69\n",
      "Done. (0.317s)\n"
     ]
    }
   ],
   "source": [
    "from IPython.display import Image\n",
    "import os\n",
    "from glob import glob\n",
    "\n",
    "val_img_list = glob('/content/drive/MyDrive/yolo/image/*')\n",
    "\n",
    "print(len(val_img_list))\n",
    "print(val_img_list)\n",
    "\n",
    "for img in val_img_list:\n",
    "\n",
    "    val_img_path = img\n",
    "    !python detect.py --weights /content/yolov5/runs/train/large_300/weights/best.pt --img 416 --conf 0.5 --source \"{val_img_path}\""
   ]
  },
  {
   "cell_type": "code",
   "execution_count": 20,
   "metadata": {},
   "outputs": [
    {
     "data": {
      "text/plain": [
       "'C:\\\\Users\\\\82102\\\\yolo\\\\yolov5'"
      ]
     },
     "execution_count": 20,
     "metadata": {},
     "output_type": "execute_result"
    }
   ],
   "source": [
    "pwd"
   ]
  },
  {
   "cell_type": "code",
   "execution_count": 9,
   "metadata": {},
   "outputs": [
    {
     "name": "stdout",
     "output_type": "stream",
     "text": [
      "Package                            Version\n",
      "---------------------------------- ---------\n",
      "absl-py                            0.8.1\n",
      "alabaster                          0.7.12\n",
      "anaconda-client                    1.7.2\n",
      "anaconda-navigator                 1.9.7\n",
      "anaconda-project                   0.8.3\n",
      "asn1crypto                         1.0.1\n",
      "astor                              0.8.0\n",
      "astroid                            2.3.1\n",
      "astropy                            3.2.1\n",
      "atomicwrites                       1.3.0\n",
      "attrs                              19.2.0\n",
      "Babel                              2.7.0\n",
      "backcall                           0.1.0\n",
      "backports.functools-lru-cache      1.6.3\n",
      "backports.os                       0.1.1\n",
      "backports.shutil-get-terminal-size 1.0.0\n",
      "backports.tempfile                 1.0\n",
      "backports.weakref                  1.0.post1\n",
      "beautifulsoup4                     4.6.0\n",
      "bitarray                           1.0.1\n",
      "bkcharts                           0.2\n",
      "bleach                             3.1.0\n",
      "bokeh                              1.3.4\n",
      "boto                               2.49.0\n",
      "Bottleneck                         1.2.1\n",
      "branca                             0.4.2\n",
      "cachetools                         3.1.1\n",
      "certifi                            2019.9.11\n",
      "cffi                               1.12.3\n",
      "chardet                            3.0.4\n",
      "Click                              7.0\n",
      "cloudpickle                        1.2.2\n",
      "clyent                             1.2.2\n",
      "colorama                           0.4.1\n",
      "comtypes                           1.1.7\n",
      "conda                              4.10.0\n",
      "conda-build                        3.18.9\n",
      "conda-package-handling             1.7.2\n",
      "conda-verify                       3.4.2\n",
      "contextlib2                        0.6.0\n",
      "cryptography                       2.7\n",
      "cycler                             0.10.0\n",
      "Cython                             0.29.13\n",
      "cytoolz                            0.10.0\n",
      "dask                               2.5.2\n",
      "decorator                          4.4.0\n",
      "defusedxml                         0.6.0\n",
      "distributed                        2.5.2\n",
      "docutils                           0.15.2\n",
      "entrypoints                        0.3\n",
      "et-xmlfile                         1.0.1\n",
      "fastcache                          1.1.0\n",
      "filelock                           3.0.12\n",
      "Flask                              1.1.1\n",
      "folium                             0.0.0\n",
      "fsspec                             0.5.2\n",
      "future                             0.18.2\n",
      "gast                               0.2.2\n",
      "gevent                             1.4.0\n",
      "glob2                              0.7\n",
      "google-auth                        1.7.1\n",
      "google-auth-oauthlib               0.4.1\n",
      "google-pasta                       0.1.8\n",
      "graphviz                           0.16\n",
      "greenlet                           0.4.15\n",
      "grpcio                             1.25.0\n",
      "h5py                               2.9.0\n",
      "HeapDict                           1.0.1\n",
      "html5lib                           1.0.1\n",
      "idna                               2.8\n",
      "imageio                            2.6.0\n",
      "imagesize                          1.1.0\n",
      "importlib-metadata                 0.23\n",
      "ipykernel                          5.1.2\n",
      "ipython                            7.8.0\n",
      "ipython-genutils                   0.2.0\n",
      "ipywidgets                         7.5.1\n",
      "isort                              4.3.21\n",
      "itsdangerous                       1.1.0\n",
      "jdcal                              1.4.1\n",
      "jedi                               0.15.1\n",
      "Jinja2                             2.10.3\n",
      "joblib                             0.13.2\n",
      "JPype1                             1.2.0\n",
      "json5                              0.8.5\n",
      "jsonschema                         3.0.2\n",
      "jupyter                            1.0.0\n",
      "jupyter-client                     5.3.3\n",
      "jupyter-console                    6.0.0\n",
      "jupyter-core                       4.5.0\n",
      "jupyterlab                         1.1.4\n",
      "jupyterlab-server                  1.0.6\n",
      "Keras                              2.3.1\n",
      "Keras-Applications                 1.0.8\n",
      "Keras-Preprocessing                1.1.0\n",
      "keyring                            18.0.0\n",
      "kiwisolver                         1.1.0\n",
      "konlpy                             0.5.2\n",
      "lazy-object-proxy                  1.4.2\n",
      "libarchive-c                       2.8\n",
      "llvmlite                           0.29.0\n",
      "locket                             0.2.0\n",
      "lxml                               4.4.1\n",
      "Markdown                           3.1.1\n",
      "MarkupSafe                         1.1.1\n",
      "matplotlib                         3.2.2\n",
      "mccabe                             0.6.1\n",
      "menuinst                           1.4.16\n",
      "missingno                          0.4.2\n",
      "mistune                            0.8.4\n",
      "mkl-fft                            1.0.14\n",
      "mkl-random                         1.1.0\n",
      "mkl-service                        2.3.0\n",
      "mock                               3.0.5\n",
      "more-itertools                     7.2.0\n",
      "mpmath                             1.1.0\n",
      "msgpack                            0.6.1\n",
      "multipledispatch                   0.6.0\n",
      "navigator-updater                  0.2.1\n",
      "nbconvert                          5.6.0\n",
      "nbformat                           4.4.0\n",
      "networkx                           2.3\n",
      "nltk                               3.4.5\n",
      "nose                               1.3.7\n",
      "notebook                           6.0.1\n",
      "numba                              0.45.1\n",
      "numexpr                            2.7.0\n",
      "numpy                              1.18.5\n",
      "numpydoc                           0.9.1\n",
      "oauthlib                           3.1.0\n",
      "olefile                            0.46\n",
      "opencv-python                      4.5.1.48\n",
      "openpyxl                           3.0.0\n",
      "opt-einsum                         3.1.0\n",
      "packaging                          19.2\n",
      "pandas                             0.25.1\n",
      "pandocfilters                      1.4.2\n",
      "parso                              0.5.1\n",
      "partd                              1.0.0\n",
      "path.py                            12.0.1\n",
      "pathlib2                           2.3.5\n",
      "patsy                              0.5.1\n",
      "pep8                               1.7.1\n",
      "pickleshare                        0.7.5\n",
      "Pillow                             6.2.0\n",
      "pip                                21.1.1\n",
      "pkginfo                            1.5.0.1\n",
      "pluggy                             0.13.0\n",
      "ply                                3.11\n",
      "prometheus-client                  0.7.1\n",
      "prompt-toolkit                     2.0.10\n",
      "protobuf                           3.10.0\n",
      "psutil                             5.6.3\n",
      "py                                 1.8.0\n",
      "pyasn1                             0.4.8\n",
      "pyasn1-modules                     0.2.7\n",
      "pycodestyle                        2.5.0\n",
      "pycosat                            0.6.3\n",
      "pycparser                          2.19\n",
      "pycrypto                           2.6.1\n",
      "pycurl                             7.43.0.3\n",
      "pyflakes                           2.1.1\n",
      "Pygments                           2.4.2\n",
      "pylint                             2.4.2\n",
      "pymongo                            3.11.3\n",
      "pyodbc                             4.0.27\n",
      "pyOpenSSL                          19.0.0\n",
      "pyparsing                          2.4.2\n",
      "pyreadline                         2.1\n",
      "pyrsistent                         0.15.4\n",
      "PySocks                            1.7.1\n",
      "pytest                             5.2.1\n",
      "pytest-arraydiff                   0.3\n",
      "pytest-astropy                     0.5.0\n",
      "pytest-doctestplus                 0.4.0\n",
      "pytest-openfiles                   0.4.0\n",
      "pytest-remotedata                  0.3.2\n",
      "python-dateutil                    2.8.0\n",
      "pytz                               2019.3\n",
      "PyWavelets                         1.0.3\n",
      "pywin32                            223\n",
      "pywinpty                           0.5.5\n",
      "PyYAML                             5.3.1\n",
      "pyzmq                              18.1.0\n",
      "QtAwesome                          0.6.0\n",
      "qtconsole                          4.5.5\n",
      "QtPy                               1.9.0\n",
      "requests                           2.22.0\n",
      "requests-oauthlib                  1.3.0\n",
      "rope                               0.14.0\n",
      "rsa                                4.0\n",
      "ruamel-yaml                        0.15.46\n",
      "scikit-image                       0.15.0\n",
      "scikit-learn                       0.21.3\n",
      "scipy                              1.3.1\n",
      "seaborn                            0.9.0\n",
      "selenium                           3.141.0\n",
      "Send2Trash                         1.5.0\n",
      "setuptools                         41.4.0\n",
      "simplegeneric                      0.8.1\n",
      "singledispatch                     3.4.0.3\n",
      "six                                1.12.0\n",
      "snowballstemmer                    2.0.0\n",
      "sortedcollections                  1.1.2\n",
      "sortedcontainers                   2.1.0\n",
      "soupsieve                          1.9.3\n",
      "Sphinx                             2.2.0\n",
      "sphinxcontrib-applehelp            1.0.1\n",
      "sphinxcontrib-devhelp              1.0.1\n",
      "sphinxcontrib-htmlhelp             1.0.2\n",
      "sphinxcontrib-jsmath               1.0.1\n",
      "sphinxcontrib-qthelp               1.0.2\n",
      "sphinxcontrib-serializinghtml      1.1.3\n",
      "sphinxcontrib-websupport           1.1.2\n",
      "spyder                             3.3.6\n",
      "spyder-kernels                     0.5.2\n",
      "SQLAlchemy                         1.3.9\n",
      "statsmodels                        0.10.1\n",
      "sympy                              1.4\n",
      "tables                             3.5.2\n",
      "tblib                              1.4.0\n",
      "tensorboard                        2.0.1\n",
      "tensorflow                         2.0.0\n",
      "tensorflow-estimator               2.0.1\n",
      "termcolor                          1.1.0\n",
      "terminado                          0.8.2\n",
      "testpath                           0.4.2\n",
      "toolz                              0.10.0\n",
      "torch                              1.8.1\n",
      "torchvision                        0.9.1\n",
      "tornado                            6.0.3\n",
      "tqdm                               4.36.1\n",
      "traitlets                          4.3.3\n",
      "tweepy                             3.10.0\n",
      "typing-extensions                  3.7.4.3\n",
      "unicodecsv                         0.14.1\n",
      "urllib3                            1.24.2\n",
      "wcwidth                            0.1.7\n",
      "webencodings                       0.5.1\n",
      "Werkzeug                           0.16.0\n",
      "wheel                              0.33.6\n",
      "widgetsnbextension                 3.5.1\n",
      "win-inet-pton                      1.1.0\n",
      "win-unicode-console                0.5\n",
      "wincertstore                       0.2\n",
      "wrapt                              1.11.2\n",
      "xgboost                            0.90\n",
      "xlrd                               1.2.0\n",
      "XlsxWriter                         1.2.1\n",
      "xlwings                            0.15.10\n",
      "xlwt                               1.3.0\n",
      "zict                               1.0.0\n",
      "zipp                               0.6.0\n"
     ]
    },
    {
     "name": "stderr",
     "output_type": "stream",
     "text": [
      "WARNING: Ignoring invalid distribution -umpy (c:\\users\\82102\\anaconda3\\lib\\site-packages)\n",
      "WARNING: Ignoring invalid distribution -pype1 (c:\\users\\82102\\anaconda3\\lib\\site-packages)\n",
      "WARNING: Ignoring invalid distribution - (c:\\users\\82102\\anaconda3\\lib\\site-packages)\n",
      "WARNING: Ignoring invalid distribution -umpy (c:\\users\\82102\\anaconda3\\lib\\site-packages)\n",
      "WARNING: Ignoring invalid distribution -pype1 (c:\\users\\82102\\anaconda3\\lib\\site-packages)\n",
      "WARNING: Ignoring invalid distribution - (c:\\users\\82102\\anaconda3\\lib\\site-packages)\n",
      "WARNING: Ignoring invalid distribution -umpy (c:\\users\\82102\\anaconda3\\lib\\site-packages)\n",
      "WARNING: Ignoring invalid distribution -pype1 (c:\\users\\82102\\anaconda3\\lib\\site-packages)\n",
      "WARNING: Ignoring invalid distribution - (c:\\users\\82102\\anaconda3\\lib\\site-packages)\n"
     ]
    }
   ],
   "source": [
    "!pip list\n"
   ]
  }
 ],
 "metadata": {
  "accelerator": "GPU",
  "colab": {
   "authorship_tag": "ABX9TyOc7slw23oFc6rfbleusfOo",
   "mount_file_id": "1o-hexPTI_Ua6HJ1mqGwULxhaG8RHaQpO",
   "name": "Untitled0.ipynb",
   "provenance": []
  },
  "kernelspec": {
   "display_name": "Python 3",
   "language": "python",
   "name": "python3"
  },
  "language_info": {
   "codemirror_mode": {
    "name": "ipython",
    "version": 3
   },
   "file_extension": ".py",
   "mimetype": "text/x-python",
   "name": "python",
   "nbconvert_exporter": "python",
   "pygments_lexer": "ipython3",
   "version": "3.7.4"
  }
 },
 "nbformat": 4,
 "nbformat_minor": 1
}
